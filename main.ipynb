{
 "cells": [
  {
   "cell_type": "code",
   "execution_count": 11,
   "metadata": {},
   "outputs": [],
   "source": [
    "import math"
   ]
  },
  {
   "cell_type": "code",
   "execution_count": 12,
   "metadata": {},
   "outputs": [],
   "source": [
    "m_bch = 14.8 # кг - масса боевой части\n",
    "m_dop = 1.5 # кг - суммарная масса других элементов, входящих в отсек БЧ\n",
    "rho_osk = 9800 # кг/м^3 - плотность ГПЭ\n",
    "\n",
    "a, b, c = 20e-3, 10e-3, 50e-3 # м - грани параллепипеда ГПЭ\n",
    "N = 80\n",
    "\n",
    "m_gpe = N*a*b*c*rho_osk\n",
    "m_gpe_1 = a*b*c*rho_osk\n",
    "m_vv = m_bch - m_gpe - m_dop # кг - масса ВВ\n",
    "\n",
    "D = 8.3 # км/с - скорость детонации ВВ"
   ]
  },
  {
   "cell_type": "code",
   "execution_count": 9,
   "metadata": {},
   "outputs": [
    {
     "name": "stdout",
     "output_type": "stream",
     "text": [
      "7.84 0.098 5.46\n"
     ]
    }
   ],
   "source": [
    "print(round(m_gpe, 5), m_gpe_1, m_vv)"
   ]
  },
  {
   "attachments": {},
   "cell_type": "markdown",
   "metadata": {},
   "source": [
    "Для ГПЭ теоретическая формула для определения их начальной скорости воспользуемся формулой для плоских тел"
   ]
  },
  {
   "cell_type": "code",
   "execution_count": 10,
   "metadata": {},
   "outputs": [
    {
     "name": "stdout",
     "output_type": "stream",
     "text": [
      "0.6964285714285714\n"
     ]
    }
   ],
   "source": [
    "beta = m_vv / m_gpe\n",
    "print(beta)"
   ]
  },
  {
   "cell_type": "code",
   "execution_count": 14,
   "metadata": {},
   "outputs": [
    {
     "name": "stdout",
     "output_type": "stream",
     "text": [
      "1.4872709647507776\n"
     ]
    }
   ],
   "source": [
    "def get_V_ob(D, beta):\n",
    "    return 1.2*D*(math.sqrt(1+32/27*beta) - 1)/(math.sqrt(1+32/27*beta) + 1)\n",
    "\n",
    "def get_F(S_m, a, b, c):\n",
    "    return S_m / (a*b*c)**(2/3)\n",
    "\n",
    "V_ob = get_V_ob(D, beta)\n",
    "print(V_ob)"
   ]
  },
  {
   "cell_type": "code",
   "execution_count": 16,
   "metadata": {},
   "outputs": [],
   "source": [
    "class obj:\n",
    "    def __init__(self, b_pregr, rho_p1, H_01):\n",
    "        self.b_pregr = b_pregr\n",
    "        self.rho_p1 = rho_p1\n",
    "        self.H_01 = H_01\n",
    "        self.a, self.b, self.c = 20e-3, 10e-3, 50e-3 # м - грани параллепипеда ГПЭ\n",
    "        \n",
    "        self.S_m = None\n",
    "        self.F = None\n",
    "        \n",
    "        \n",
    "class Bairactar(obj):\n",
    "    def __init__(self, b_pregr, rho_p1, H_01):\n",
    "        super().__init__(b_pregr, rho_p1, H_01)\n",
    "    \n",
    "    def calculate(self):\n",
    "        self.S_m = (a*b+a*c)/2\n",
    "        self.F = get_F(self.F, self.a, self.b, self.c)\n",
    "\n",
    "    \n",
    "\n",
    "class FF_18A(obj):\n",
    "    def __init__(self, b_pregr, rho_p1, H_01):\n",
    "        super().__init__(b_pregr, rho_p1, H_01)"
   ]
  },
  {
   "cell_type": "code",
   "execution_count": null,
   "metadata": {},
   "outputs": [],
   "source": [
    "obj_1 = Bairactar(b_pregr=3, pho_p1=1000, H_01=100)"
   ]
  }
 ],
 "metadata": {
  "kernelspec": {
   "display_name": "Python 3",
   "language": "python",
   "name": "python3"
  },
  "language_info": {
   "codemirror_mode": {
    "name": "ipython",
    "version": 3
   },
   "file_extension": ".py",
   "mimetype": "text/x-python",
   "name": "python",
   "nbconvert_exporter": "python",
   "pygments_lexer": "ipython3",
   "version": "3.11.1"
  },
  "orig_nbformat": 4,
  "vscode": {
   "interpreter": {
    "hash": "955b9afe3b1b81b78f4e63cc5e5a7bc1d121d1394870930516ac00dea2a26786"
   }
  }
 },
 "nbformat": 4,
 "nbformat_minor": 2
}

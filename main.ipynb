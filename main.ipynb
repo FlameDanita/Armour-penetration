{
 "cells": [
  {
   "cell_type": "code",
   "execution_count": 31,
   "metadata": {},
   "outputs": [],
   "source": [
    "from scipy.optimize import fsolve\n",
    "import math"
   ]
  },
  {
   "cell_type": "code",
   "execution_count": 2,
   "metadata": {},
   "outputs": [],
   "source": [
    "m_bch = 14.8 # кг - масса боевой части\n",
    "m_dop = 1.5 # кг - суммарная масса других элементов, входящих в отсек БЧ\n",
    "rho_osk = 9800 # кг/м^3 - плотность ГПЭ\n",
    "\n",
    "a, b, c = 20e-3, 10e-3, 50e-3 # м - грани параллепипеда ГПЭ\n",
    "N = 80\n",
    "\n",
    "m_gpe = N*a*b*c*rho_osk\n",
    "m_gpe_1 = a*b*c*rho_osk\n",
    "m_vv = m_bch - m_gpe - m_dop # кг - масса ВВ\n",
    "\n",
    "D = 8.3 # км/с - скорость детонации ВВ"
   ]
  },
  {
   "cell_type": "code",
   "execution_count": 3,
   "metadata": {},
   "outputs": [
    {
     "name": "stdout",
     "output_type": "stream",
     "text": [
      "7.84 0.098 5.46\n"
     ]
    }
   ],
   "source": [
    "print(round(m_gpe, 5), m_gpe_1, m_vv)"
   ]
  },
  {
   "attachments": {},
   "cell_type": "markdown",
   "metadata": {},
   "source": [
    "Для ГПЭ теоретическая формула для определения их начальной скорости воспользуемся формулой для плоских тел"
   ]
  },
  {
   "cell_type": "code",
   "execution_count": 4,
   "metadata": {},
   "outputs": [
    {
     "name": "stdout",
     "output_type": "stream",
     "text": [
      "0.6964285714285714\n"
     ]
    }
   ],
   "source": [
    "beta = m_vv / m_gpe\n",
    "print(beta)"
   ]
  },
  {
   "cell_type": "code",
   "execution_count": 24,
   "metadata": {},
   "outputs": [
    {
     "name": "stdout",
     "output_type": "stream",
     "text": [
      "1.4872709647507776\n"
     ]
    }
   ],
   "source": [
    "def get_V_ob(D, beta):\n",
    "    return 1.2*D*(math.sqrt(1+32/27*beta) - 1)/(math.sqrt(1+32/27*beta) + 1)\n",
    "\n",
    "def get_F(S_m, a, b, c):\n",
    "    return S_m / (a*b*c)**(2/3)\n",
    "\n",
    "V_ob = get_V_ob(D, beta)\n",
    "print(V_ob)\n",
    "\n",
    "def get_A(rho, S_m, c_x, m_gpe_1):\n",
    "    up = rho*S_m*c_x\n",
    "    down = 2*m_gpe_1\n",
    "    return up/down\n",
    "\n",
    "def get_C(S_m, H_0, m_gpe_1):\n",
    "    return S_m*H_0/m_gpe_1\n",
    "\n",
    "def get_V_psp(C, A, b_pregr, k):\n",
    "    pow = 2*A*b_pregr/k\n",
    "    return math.sqrt(C/A*(math.exp(pow) - 1))\n",
    "\n",
    "def get_A1(rho_v, c_x, F, rho_osk, m_gpe_1):\n",
    "    up = rho_v * c_x * F\n",
    "    down = 2 * rho_osk * m_gpe_1\n",
    "    return up/down"
   ]
  },
  {
   "cell_type": "code",
   "execution_count": 27,
   "metadata": {},
   "outputs": [],
   "source": [
    "class obj:\n",
    "    def __init__(self, b_pregr, rho_p, H_0, k, c_x, rho_v):\n",
    "        self.b_pregr = b_pregr\n",
    "        self.rho_p = rho_p\n",
    "        self.H_0 = H_0\n",
    "        self.k = k\n",
    "        self.c_x = c_x\n",
    "        self.rho_v = rho_v\n",
    "        self.S_m = None\n",
    "        self.F = None\n",
    "\n",
    "        self.m_bch = 14.8 # кг - масса боевой части\n",
    "        self.m_dop = 1.5 # кг - суммарная масса других элементов, входящих в отсек БЧ\n",
    "        self.rho_osk = 9800 # кг/м^3 - плотность ГПЭ\n",
    "\n",
    "        self.a, self.b, self.c = 20e-3, 10e-3, 50e-3 # м - грани параллепипеда ГПЭ\n",
    "        self.N = 80\n",
    "\n",
    "        self.m_gpe = N*a*b*c*rho_osk\n",
    "        self.m_gpe_1 = a*b*c*rho_osk\n",
    "        self.m_vv = m_bch - m_gpe - m_dop # кг - масса ВВ\n",
    "\n",
    "        self.D = 8.3 # км/с - скорость детонации ВВ\n",
    "        \n",
    "class Bairactar_(obj):\n",
    "    def __init__(self, b_pregr, rho_p, H_0, k, c_x, rho_v):\n",
    "        super().__init__(b_pregr, rho_p, H_0, k, c_x, rho_v)\n",
    "    \n",
    "    def equations(p):\n",
    "        x = p\n",
    "        return\n",
    "    \n",
    "    def calculate(self):\n",
    "        self.S_m = (self.a*self.b+self.a*self.c)/2\n",
    "        self.F = get_F(self.S_m, self.a, self.b, self.c)\n",
    "        self.A = get_A(self.rho_p, self.S_m, self.c_x, self.m_gpe_1)\n",
    "        self.C = get_C(self.S_m, self.H_0, self.m_gpe_1)\n",
    "        self.V_psp = get_V_psp(self.C, self.A, self.b_pregr, self.k)\n",
    "        self.F = 1.487\n",
    "        self.A1 = get_A1(self.rho_v, self.c_x, self.F, self.rho_osk, self.m_gpe_1)\n",
    "        x =  fsolve(equations, (1))\n",
    "\n",
    "    def get_info(self):\n",
    "        print('S_m =', self.S_m)\n",
    "        print('F =', self.F)\n",
    "        print('A =', self.A)\n",
    "        print('C =', self.C)\n",
    "        print('V_psp =', self.V_psp)\n",
    "        print('A1 =', self.A1)\n",
    "        print(self.equations(x))\n",
    "\n",
    "class FF_18A(obj):\n",
    "    def __init__(self, b_pregr, rho_p1, H_01):\n",
    "        super().__init__(b_pregr, rho_p1, H_01)"
   ]
  },
  {
   "cell_type": "code",
   "execution_count": 28,
   "metadata": {},
   "outputs": [
    {
     "name": "stdout",
     "output_type": "stream",
     "text": [
      "S_m = 0.0006000000000000001\n",
      "F = 1.487\n",
      "A = 3.3673469387755106\n",
      "C = 0.6122448979591837\n",
      "V_psp = 1379.1995300250142\n",
      "A1 = 0.0010329571532694713\n"
     ]
    }
   ],
   "source": [
    "Bairactar = Bairactar_(b_pregr=3, rho_p=1000, H_0=100, k=1.25, c_x=1.1, rho_v=1.213)\n",
    "Bairactar.calculate()\n",
    "Bairactar.get_info()"
   ]
  },
  {
   "cell_type": "code",
   "execution_count": 30,
   "metadata": {},
   "outputs": [
    {
     "name": "stdout",
     "output_type": "stream",
     "text": [
      "(4.4508396968012676e-11, -1.0512035686360832e-11)\n"
     ]
    }
   ],
   "source": [
    "def equations(p):\n",
    "    x = p\n",
    "    return \n",
    "x =  fsolve(equations, (1))\n",
    "print(equations(x))"
   ]
  },
  {
   "cell_type": "code",
   "execution_count": null,
   "metadata": {},
   "outputs": [],
   "source": []
  }
 ],
 "metadata": {
  "kernelspec": {
   "display_name": "Python 3",
   "language": "python",
   "name": "python3"
  },
  "language_info": {
   "codemirror_mode": {
    "name": "ipython",
    "version": 3
   },
   "file_extension": ".py",
   "mimetype": "text/x-python",
   "name": "python",
   "nbconvert_exporter": "python",
   "pygments_lexer": "ipython3",
   "version": "3.10.5"
  },
  "orig_nbformat": 4,
  "vscode": {
   "interpreter": {
    "hash": "f6a3a25c74cd0da2192a41ef485804de5be3e8bfabdab7b7d3444c62efa2594c"
   }
  }
 },
 "nbformat": 4,
 "nbformat_minor": 2
}
